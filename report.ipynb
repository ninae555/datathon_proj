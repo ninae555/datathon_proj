{
 "cells": [
  {
   "attachments": {},
   "cell_type": "markdown",
   "metadata": {},
   "source": [
    "Water Purity Prediction"
   ]
  },
  {
   "cell_type": "code",
   "execution_count": 5,
   "metadata": {},
   "outputs": [],
   "source": [
    "#importing relevant libraries\n",
    "import pandas as pd\n",
    "import numpy as np\n",
    "\n",
    "import matplotlib.pyplot as plt\n",
    "from matplotlib import rcParams\n",
    "\n",
    "import seaborn as sns\n",
    "\n",
    "\n"
   ]
  },
  {
   "cell_type": "markdown",
   "metadata": {},
   "source": []
  },
  {
   "cell_type": "code",
   "execution_count": 6,
   "metadata": {},
   "outputs": [
    {
     "ename": "AttributeError",
     "evalue": "'DataFrame' object has no attribute 'data'",
     "output_type": "error",
     "traceback": [
      "\u001b[0;31m---------------------------------------------------------------------------\u001b[0m",
      "\u001b[0;31mAttributeError\u001b[0m                            Traceback (most recent call last)",
      "Cell \u001b[0;32mIn[6], line 6\u001b[0m\n\u001b[1;32m      2\u001b[0m data \u001b[39m=\u001b[39m pd\u001b[39m.\u001b[39mread_csv(\u001b[39m'\u001b[39m\u001b[39mwater_potability.csv\u001b[39m\u001b[39m'\u001b[39m)\n\u001b[1;32m      4\u001b[0m \u001b[39m#Data Dictionary \u001b[39;00m\n\u001b[0;32m----> 6\u001b[0m df \u001b[39m=\u001b[39m pd\u001b[39m.\u001b[39mDataFrame(data\u001b[39m=\u001b[39mdata\u001b[39m.\u001b[39;49mdata, columns\u001b[39m=\u001b[39mdata\u001b[39m.\u001b[39mfeature_names)\n\u001b[1;32m      7\u001b[0m \u001b[39m# create a series for the label\u001b[39;00m\n\u001b[1;32m      8\u001b[0m df[\u001b[39m\"\u001b[39m\u001b[39mtarget\u001b[39m\u001b[39m\"\u001b[39m] \u001b[39m=\u001b[39m data\u001b[39m.\u001b[39mtarget\n",
      "File \u001b[0;32m~/Documents/datathon_proj/venv/lib/python3.8/site-packages/pandas/core/generic.py:5902\u001b[0m, in \u001b[0;36mNDFrame.__getattr__\u001b[0;34m(self, name)\u001b[0m\n\u001b[1;32m   5895\u001b[0m \u001b[39mif\u001b[39;00m (\n\u001b[1;32m   5896\u001b[0m     name \u001b[39mnot\u001b[39;00m \u001b[39min\u001b[39;00m \u001b[39mself\u001b[39m\u001b[39m.\u001b[39m_internal_names_set\n\u001b[1;32m   5897\u001b[0m     \u001b[39mand\u001b[39;00m name \u001b[39mnot\u001b[39;00m \u001b[39min\u001b[39;00m \u001b[39mself\u001b[39m\u001b[39m.\u001b[39m_metadata\n\u001b[1;32m   5898\u001b[0m     \u001b[39mand\u001b[39;00m name \u001b[39mnot\u001b[39;00m \u001b[39min\u001b[39;00m \u001b[39mself\u001b[39m\u001b[39m.\u001b[39m_accessors\n\u001b[1;32m   5899\u001b[0m     \u001b[39mand\u001b[39;00m \u001b[39mself\u001b[39m\u001b[39m.\u001b[39m_info_axis\u001b[39m.\u001b[39m_can_hold_identifiers_and_holds_name(name)\n\u001b[1;32m   5900\u001b[0m ):\n\u001b[1;32m   5901\u001b[0m     \u001b[39mreturn\u001b[39;00m \u001b[39mself\u001b[39m[name]\n\u001b[0;32m-> 5902\u001b[0m \u001b[39mreturn\u001b[39;00m \u001b[39mobject\u001b[39;49m\u001b[39m.\u001b[39;49m\u001b[39m__getattribute__\u001b[39;49m(\u001b[39mself\u001b[39;49m, name)\n",
      "\u001b[0;31mAttributeError\u001b[0m: 'DataFrame' object has no attribute 'data'"
     ]
    }
   ],
   "source": [
    "#Importing dataset\n",
    "data = pd.read_csv('water_potability.csv')\n",
    "\n",
    "\n",
    "\n",
    "df = pd.DataFrame(data=data.data, columns=data.feature_names)\n",
    "# create a series for the label\n",
    "df[\"target\"] = data.target\n",
    "\n",
    "#produce a summary of the dataset.\n",
    "df.head()\n",
    "df.describe()\n",
    "df.shape\n",
    "df.info()\n",
    "\n",
    "#Data Cleaning\n",
    "data.isnull().sum()\n",
    "\n",
    "# Drop rows with missing values\n",
    "data.dropna(inplace=True)\n",
    "\n",
    "# Count the number of duplicated rows\n",
    "data.duplicated().sum()\n",
    "\n",
    "# Drop duplicates\n",
    "data.drop_duplicates(inplace=True)\n",
    "\n",
    "# Calculate summary statistics for a column\n",
    "column_stats = data['column_name'].describe()\n",
    "\n",
    "# Calculate the interquartile range (IQR)\n",
    "IQR = column_stats['75%'] - column_stats['25%']\n",
    "\n",
    "# Calculate the upper and lower bounds for outliers\n",
    "upper_bound = column_stats['75%'] + 1.5 * IQR\n",
    "lower_bound = column_stats['25%'] - 1.5 * IQR\n",
    "\n",
    "# Find rows with outliers in the column\n",
    "outliers = data[(data['column_name'] > upper_bound) | (data['column_name'] < lower_bound)]\n",
    "\n",
    "# Drop rows with outliers\n",
    "data.drop(outliers.index, inplace=True)\n",
    "\n",
    "# Check the unique values in a column\n",
    "data['column_name'].unique()\n",
    "\n",
    "# Replace inconsistent values with a standard value\n",
    "data['column_name'].replace({'inconsistent_value': 'standard_value'}, inplace=True)\n",
    "\n"
   ]
  }
 ],
 "metadata": {
  "kernelspec": {
   "display_name": "Python 3",
   "language": "python",
   "name": "python3"
  },
  "language_info": {
   "codemirror_mode": {
    "name": "ipython",
    "version": 3
   },
   "file_extension": ".py",
   "mimetype": "text/x-python",
   "name": "python",
   "nbconvert_exporter": "python",
   "pygments_lexer": "ipython3",
   "version": "3.8.16"
  },
  "orig_nbformat": 4,
  "vscode": {
   "interpreter": {
    "hash": "3104ccc1f65eedc9867388e0eb8d0c93911c615e4d9c78feb89b1e2ac7bfaede"
   }
  }
 },
 "nbformat": 4,
 "nbformat_minor": 2
}
