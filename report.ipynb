{
 "cells": [
  {
   "attachments": {},
   "cell_type": "markdown",
   "metadata": {},
   "source": [
    "Water Purity Prediction"
   ]
  },
  {
   "cell_type": "code",
   "execution_count": 5,
   "metadata": {},
   "outputs": [],
   "source": [
    "#importing relevant libraries\n",
    "import pandas as pd\n",
    "import numpy as np\n",
    "\n",
    "import matplotlib.pyplot as plt\n",
    "from matplotlib import rcParams\n",
    "\n",
    "import seaborn as sns\n",
    "\n",
    "\n"
   ]
  },
  {
   "cell_type": "markdown",
   "metadata": {},
   "source": []
  },
  {
   "cell_type": "code",
   "execution_count": 14,
   "metadata": {},
   "outputs": [
    {
     "name": "stdout",
     "output_type": "stream",
     "text": [
      "<class 'pandas.core.frame.DataFrame'>\n",
      "RangeIndex: 3276 entries, 0 to 3275\n",
      "Data columns (total 10 columns):\n",
      " #   Column           Non-Null Count  Dtype  \n",
      "---  ------           --------------  -----  \n",
      " 0   ph               2785 non-null   float64\n",
      " 1   Hardness         3276 non-null   float64\n",
      " 2   Solids           3276 non-null   float64\n",
      " 3   Chloramines      3276 non-null   float64\n",
      " 4   Sulfate          2495 non-null   float64\n",
      " 5   Conductivity     3276 non-null   float64\n",
      " 6   Organic_carbon   3276 non-null   float64\n",
      " 7   Trihalomethanes  3114 non-null   float64\n",
      " 8   Turbidity        3276 non-null   float64\n",
      " 9   Potability       3276 non-null   int64  \n",
      "dtypes: float64(9), int64(1)\n",
      "memory usage: 256.1 KB\n"
     ]
    }
   ],
   "source": [
    "#Importing dataset\n",
    "df = pd.read_csv('water_potability.csv')\n",
    "\n",
    "\n",
    "#produce a summary of the dataset.\n",
    "df.head()\n",
    "df.describe()\n",
    "df.shape\n",
    "df.info()\n",
    "df[\"target\"] = df.Potability\n",
    "\n",
    "\n",
    "\n"
   ]
  },
  {
   "cell_type": "code",
   "execution_count": 15,
   "metadata": {},
   "outputs": [],
   "source": [
    "#Data Cleaning\n",
    "df.isnull().sum()\n",
    "# Drop rows with missing values\n",
    "df.dropna(inplace=True)\n",
    "\n",
    "# Count the number of duplicated rows\n",
    "df.duplicated().sum()\n",
    "\n",
    "# Drop duplicates\n",
    "df.drop_duplicates(inplace=True)\n",
    "\n"
   ]
  },
  {
   "cell_type": "code",
   "execution_count": 17,
   "metadata": {},
   "outputs": [
    {
     "data": {
      "text/plain": [
       "0    1200\n",
       "1     811\n",
       "Name: target, dtype: int64"
      ]
     },
     "execution_count": 17,
     "metadata": {},
     "output_type": "execute_result"
    }
   ],
   "source": [
    "###Univariate Analysis\n",
    "#Categorical\n",
    "df.target.value_counts()\n",
    "# df.target.value_counts(normalize = True)"
   ]
  },
  {
   "cell_type": "code",
   "execution_count": 18,
   "metadata": {},
   "outputs": [
    {
     "data": {
      "image/png": "[encoded data removed]",
      "text/plain": [
       "<Figure size 640x480 with 1 Axes>"
      ]
     },
     "metadata": {},
     "output_type": "display_data"
    }
   ],
   "source": [
    "#Data Visualization \n",
    "df.target.value_counts().plot(kind=\"bar\")\n",
    "plt.title(\"Value counts of the target variable\")\n",
    "plt.xlabel(\"Potability\")\n",
    "plt.xticks(rotation=0) #rotating x-axis labels e.g., rotation='vertical'\n",
    "plt.ylabel(\"Count\")\n",
    "plt.show()"
   ]
  },
  {
   "cell_type": "code",
   "execution_count": null,
   "metadata": {},
   "outputs": [],
   "source": [
    "# # Calculate summary statistics for a column\n",
    "# column_stats = df['column_name'].describe()\n",
    "\n",
    "# # Calculate the interquartile range (IQR)\n",
    "# IQR = column_stats['75%'] - column_stats['25%']\n",
    "\n",
    "# # Calculate the upper and lower bounds for outliers\n",
    "# upper_bound = column_stats['75%'] + 1.5 * IQR\n",
    "# lower_bound = column_stats['25%'] - 1.5 * IQR\n",
    "\n",
    "# # Find rows with outliers in the column\n",
    "# outliers = df[(df['column_name'] > upper_bound) | (df['column_name'] < lower_bound)]\n",
    "\n",
    "# # Drop rows with outliers\n",
    "# df.drop(outliers.index, inplace=True)\n",
    "\n",
    "# # Check the unique values in a column\n",
    "# df['column_name'].unique()\n",
    "\n",
    "# # Replace inconsistent values with a standard value\n",
    "# df['column_name'].replace({'inconsistent_value': 'standard_value'}, inplace=True)\n",
    "\n"
   ]
  }
 ],
 "metadata": {
  "kernelspec": {
   "display_name": "Python 3",
   "language": "python",
   "name": "python3"
  },
  "language_info": {
   "codemirror_mode": {
    "name": "ipython",
    "version": 3
   },
   "file_extension": ".py",
   "mimetype": "text/x-python",
   "name": "python",
   "nbconvert_exporter": "python",
   "pygments_lexer": "ipython3",
   "version": "3.8.16"
  },
  "orig_nbformat": 4,
  "vscode": {
   "interpreter": {
    "hash": "3104ccc1f65eedc9867388e0eb8d0c93911c615e4d9c78feb89b1e2ac7bfaede"
   }
  }
 },
 "nbformat": 4,
 "nbformat_minor": 2
}
