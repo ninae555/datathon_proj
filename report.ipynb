{
 "cells": [
  {
   "attachments": {},
   "cell_type": "markdown",
   "metadata": {},
   "source": [
    "# Water Purity Prediction\n",
    "\n",
    "According to the World Health Organization(WHO), over 2 bilion people live without access to clean water. \n",
    "\n"
   ]
  },
  {
   "cell_type": "code",
   "execution_count": 2,
   "metadata": {},
   "outputs": [],
   "source": [
    "#importing relevant libraries\n",
    "import pandas as pd\n",
    "import numpy as np\n",
    "\n",
    "import matplotlib.pyplot as plt\n",
    "from matplotlib import rcParams\n",
    "\n",
    "import seaborn as sns\n",
    "\n",
    "\n"
   ]
  },
  {
   "cell_type": "code",
   "execution_count": 4,
   "metadata": {},
   "outputs": [
    {
     "name": "stdout",
     "output_type": "stream",
     "text": [
      "<class 'pandas.core.frame.DataFrame'>\n",
      "RangeIndex: 3276 entries, 0 to 3275\n",
      "Data columns (total 10 columns):\n",
      " #   Column           Non-Null Count  Dtype  \n",
      "---  ------           --------------  -----  \n",
      " 0   ph               2785 non-null   float64\n",
      " 1   Hardness         3276 non-null   float64\n",
      " 2   Solids           3276 non-null   float64\n",
      " 3   Chloramines      3276 non-null   float64\n",
      " 4   Sulfate          2495 non-null   float64\n",
      " 5   Conductivity     3276 non-null   float64\n",
      " 6   Organic_carbon   3276 non-null   float64\n",
      " 7   Trihalomethanes  3114 non-null   float64\n",
      " 8   Turbidity        3276 non-null   float64\n",
      " 9   Potability       3276 non-null   int64  \n",
      "dtypes: float64(9), int64(1)\n",
      "memory usage: 256.1 KB\n"
     ]
    },
    {
     "data": {
      "text/html": [
       "<div>\n",
       "<style scoped>\n",
       "    .dataframe tbody tr th:only-of-type {\n",
       "        vertical-align: middle;\n",
       "    }\n",
       "\n",
       "    .dataframe tbody tr th {\n",
       "        vertical-align: top;\n",
       "    }\n",
       "\n",
       "    .dataframe thead th {\n",
       "        text-align: right;\n",
       "    }\n",
       "</style>\n",
       "<table border=\"1\" class=\"dataframe\">\n",
       "  <thead>\n",
       "    <tr style=\"text-align: right;\">\n",
       "      <th></th>\n",
       "      <th>ph</th>\n",
       "      <th>Hardness</th>\n",
       "      <th>Solids</th>\n",
       "      <th>Chloramines</th>\n",
       "      <th>Sulfate</th>\n",
       "      <th>Conductivity</th>\n",
       "      <th>Organic_carbon</th>\n",
       "      <th>Trihalomethanes</th>\n",
       "      <th>Turbidity</th>\n",
       "      <th>Potability</th>\n",
       "      <th>target</th>\n",
       "    </tr>\n",
       "  </thead>\n",
       "  <tbody>\n",
       "    <tr>\n",
       "      <th>0</th>\n",
       "      <td>NaN</td>\n",
       "      <td>204.890455</td>\n",
       "      <td>20791.318981</td>\n",
       "      <td>7.300212</td>\n",
       "      <td>368.516441</td>\n",
       "      <td>564.308654</td>\n",
       "      <td>10.379783</td>\n",
       "      <td>86.990970</td>\n",
       "      <td>2.963135</td>\n",
       "      <td>0</td>\n",
       "      <td>0</td>\n",
       "    </tr>\n",
       "    <tr>\n",
       "      <th>1</th>\n",
       "      <td>3.716080</td>\n",
       "      <td>129.422921</td>\n",
       "      <td>18630.057858</td>\n",
       "      <td>6.635246</td>\n",
       "      <td>NaN</td>\n",
       "      <td>592.885359</td>\n",
       "      <td>15.180013</td>\n",
       "      <td>56.329076</td>\n",
       "      <td>4.500656</td>\n",
       "      <td>0</td>\n",
       "      <td>0</td>\n",
       "    </tr>\n",
       "    <tr>\n",
       "      <th>2</th>\n",
       "      <td>8.099124</td>\n",
       "      <td>224.236259</td>\n",
       "      <td>19909.541732</td>\n",
       "      <td>9.275884</td>\n",
       "      <td>NaN</td>\n",
       "      <td>418.606213</td>\n",
       "      <td>16.868637</td>\n",
       "      <td>66.420093</td>\n",
       "      <td>3.055934</td>\n",
       "      <td>0</td>\n",
       "      <td>0</td>\n",
       "    </tr>\n",
       "    <tr>\n",
       "      <th>3</th>\n",
       "      <td>8.316766</td>\n",
       "      <td>214.373394</td>\n",
       "      <td>22018.417441</td>\n",
       "      <td>8.059332</td>\n",
       "      <td>356.886136</td>\n",
       "      <td>363.266516</td>\n",
       "      <td>18.436524</td>\n",
       "      <td>100.341674</td>\n",
       "      <td>4.628771</td>\n",
       "      <td>0</td>\n",
       "      <td>0</td>\n",
       "    </tr>\n",
       "    <tr>\n",
       "      <th>4</th>\n",
       "      <td>9.092223</td>\n",
       "      <td>181.101509</td>\n",
       "      <td>17978.986339</td>\n",
       "      <td>6.546600</td>\n",
       "      <td>310.135738</td>\n",
       "      <td>398.410813</td>\n",
       "      <td>11.558279</td>\n",
       "      <td>31.997993</td>\n",
       "      <td>4.075075</td>\n",
       "      <td>0</td>\n",
       "      <td>0</td>\n",
       "    </tr>\n",
       "  </tbody>\n",
       "</table>\n",
       "</div>"
      ],
      "text/plain": [
       "         ph    Hardness        Solids  Chloramines     Sulfate  Conductivity  \\\n",
       "0       NaN  204.890455  20791.318981     7.300212  368.516441    564.308654   \n",
       "1  3.716080  129.422921  18630.057858     6.635246         NaN    592.885359   \n",
       "2  8.099124  224.236259  19909.541732     9.275884         NaN    418.606213   \n",
       "3  8.316766  214.373394  22018.417441     8.059332  356.886136    363.266516   \n",
       "4  9.092223  181.101509  17978.986339     6.546600  310.135738    398.410813   \n",
       "\n",
       "   Organic_carbon  Trihalomethanes  Turbidity  Potability  target  \n",
       "0       10.379783        86.990970   2.963135           0       0  \n",
       "1       15.180013        56.329076   4.500656           0       0  \n",
       "2       16.868637        66.420093   3.055934           0       0  \n",
       "3       18.436524       100.341674   4.628771           0       0  \n",
       "4       11.558279        31.997993   4.075075           0       0  "
      ]
     },
     "execution_count": 4,
     "metadata": {},
     "output_type": "execute_result"
    }
   ],
   "source": [
    "#Importing dataset\n",
    "df = pd.read_csv('water_potability.csv')\n",
    "\n",
    "\n",
    "#produce a summary of the dataset.\n",
    "df.head()\n",
    "df.describe()\n",
    "df.shape\n",
    "df.info()\n",
    "df[\"target\"] = df.Potability\n",
    "df.head()\n",
    "\n",
    "\n"
   ]
  },
  {
   "attachments": {},
   "cell_type": "markdown",
   "metadata": {},
   "source": [
    "\n",
    "## Data Dictionary\n",
    "\n",
    "| #   | Column           | Non-Null Count | Dtype    |\n",
    "| --- | ------           | -------------- | -------- |\n",
    "| 0   | ph               | 2785 non-null   | float64  |\n",
    "| 1   | Hardness         | 3276 non-null   | float64  |\n",
    "| 2   | Solids           | 3276 non-null   | float64  |\n",
    "| 3   | Chloramines      | 3276 non-null   | float64  |\n",
    "| 4   | Sulfate          | 2495 non-null   | float64  |\n",
    "| 5   | Conductivity     | 3276 non-null   | float64  |\n",
    "| 6   | Organic_carbon   | 3276 non-null   | float64  |\n",
    "| 7   | Trihalomethanes  | 3114 non-null   | float64  |\n",
    "| 8   | Turbidity        | 3276 non-null   | float64  |\n",
    "| 9   | Potability       | 3276 non-null   | int64    |\n",
    "\n",
    "The water_potability.csv file  record water quality metrics for 3276 different water bodies.   \n",
    "\n",
    " ph: pH is a crucial parameter in evaluating the acid–base balance and determining the acidic or alkaline condition of water. The WHO has set the max permissible limit of pH for safe drinking water from 6.5 to 8.5 The current investigation ranges were 6.52–6.83 which are in the range of WHO standards.\n",
    "\n",
    " Hardness: Hardness is mainly caused by calcium and magnesium salts which are dissolved from geologic deposits as water travels. The duration of contact between water and hardness-producing materials determines the level of hardness in raw water.\n",
    "\n",
    " Solids (Total dissolved solids - TDS): This refers to the minerals(organic or inorganic) or salts that can be dissolved in water. (Potassium, calcium, sodium, bicarbonates, chlorides, magnesium, and sulfates). These kinds of minerals can produce a unpleasant taste and diluted color in water. This is an important parameter for determining the drinkability of water for multiple reasons. The desirable limit is 500 mg/L. The maximum limit for drinking water is 1000 mg/L according to the WHO. \n",
    "\n",
    "Chloramines: These are used as disinfectants in public water systems, where are made by mixing ammonia to chlorine. The safe limit of Chlorine in drinking water is 4 miligrams per liter. \n",
    "\n",
    "Sulfate: Sulfrates are naturally occuring substances found in minerals, rocks, groundwater, food, soil, and plants. They are also used commercially in the chemical industry. For comparison, seawater contains about 2,700 mg/L, while freshwater have sulfate concentration of 3 to 30 mg/L(although in some freshwater geographic locations can have up to 1000 mg/L).\n",
    "\n",
    "Conductivity: Conductivity measures the abiity for water to conduct an electrical current. This increases with an increase in ion concentration. It is influenced by the amount of dissolved solids present in the water sample. The electrical current standard, as stated by WHO, should not exceed 400 μS/cm.\n",
    "\n",
    "Organic_carbon: Total Organic Carbon (TOC) in water may come from decaying natural organic matter or from a synthetic sources. TOC measures the total amount of carbon in organic compounds present in pure water. THe environmental Protection Agency recommends that drinking water should have less than 2 mg/L of TOC levels, while source water used for treatment should have TOC less than 4 mg/L. \n",
    "\n",
    "Trihalomethanes: THMs are chemicals that can be found in water treated with chlorine. The concentration of THMs in drinking water varies based on the level of organic maerial in the water, the amount of chlorine required for treatment, and water temperature. THM levels that are safe in drinking water are up to 80 ppm. \n",
    "\n",
    "Turbidity: This is a measure of light-emitting properties of water and depends on the amount of solid matter present in a suspended state. Te WHO reccommends turbidity to be at 5.00 NTU.\n",
    "\n",
    "Potability: Indicates if water is safe for human consumption where 1 means Potable and 0 means Not potable.\n",
    "\n",
    "\n",
    " \n",
    "\n",
    " \n",
    " "
   ]
  },
  {
   "cell_type": "code",
   "execution_count": 9,
   "metadata": {},
   "outputs": [],
   "source": [
    "#Data Cleaning\n",
    "df.isnull().sum()\n",
    "# Drop rows with missing values\n",
    "df.dropna(inplace=True)\n",
    "\n",
    "# Count the number of duplicated rows\n",
    "df.duplicated().sum()\n",
    "\n",
    "# Drop duplicates\n",
    "df.drop_duplicates(inplace=True)\n",
    "\n",
    "# Calculate summary statistics for a column\n",
    "column_stats = df['ph'].describe()\n",
    "\n",
    "# Calculate the interquartile range (IQR)\n",
    "IQR = column_stats['75%'] - column_stats['25%']\n",
    "\n",
    "# Calculate the upper and lower bounds for outliers\n",
    "upper_bound = column_stats['75%'] + 1.5 * IQR\n",
    "lower_bound = column_stats['25%'] - 1.5 * IQR\n",
    "\n",
    "# Find rows with outliers in the column\n",
    "outliers = df[(df['ph'] > upper_bound) | (df['ph'] < lower_bound)]\n",
    "\n",
    "# # Drop rows with outliers\n",
    "# df.drop(outliers.index, inplace=True)\n",
    "\n",
    "# # Check the unique values in a column\n",
    "# df['ph'].unique()\n",
    "\n",
    "# # Replace inconsistent values with a standard value\n",
    "# df['ph'].replace({'inconsistent_value': 'standard_value'}, inplace=True)\n"
   ]
  },
  {
   "cell_type": "code",
   "execution_count": 6,
   "metadata": {},
   "outputs": [
    {
     "data": {
      "text/plain": [
       "0    1200\n",
       "1     811\n",
       "Name: target, dtype: int64"
      ]
     },
     "execution_count": 6,
     "metadata": {},
     "output_type": "execute_result"
    }
   ],
   "source": [
    "###Univariate Analysis\n",
    "#Categorical\n",
    "df.target.value_counts()\n",
    "# df.target.value_counts(normalize = True)"
   ]
  },
  {
   "cell_type": "code",
   "execution_count": 7,
   "metadata": {},
   "outputs": [
    {
     "data": {
      "image/png": "[encoded data removed]",
      "text/plain": [
       "<Figure size 640x480 with 1 Axes>"
      ]
     },
     "metadata": {},
     "output_type": "display_data"
    },
    {
     "name": "stdout",
     "output_type": "stream",
     "text": [
      "Skewness: 0.5958940107371647\n",
      "Kurtisis: 0.3450324319785967\n",
      "Skewness: 0.012976277458973277\n",
      "Kurtisis: 0.5515462338654258\n"
     ]
    },
    {
     "data": {
      "text/plain": [
       "array([[<Axes: title={'center': 'Chloramines'}>]], dtype=object)"
      ]
     },
     "execution_count": 7,
     "metadata": {},
     "output_type": "execute_result"
    },
    {
     "data": {
      "image/png": "[encoded data removed]",
      "text/plain": [
       "<Figure size 640x480 with 1 Axes>"
      ]
     },
     "metadata": {},
     "output_type": "display_data"
    },
    {
     "data": {
      "image/png": "[encoded data removed]",
      "text/plain": [
       "<Figure size 640x480 with 1 Axes>"
      ]
     },
     "metadata": {},
     "output_type": "display_data"
    }
   ],
   "source": [
    "#Data Visualization \n",
    "df.target.value_counts().plot(kind=\"bar\")\n",
    "plt.title(\"Value counts of the target variable\")\n",
    "plt.xlabel(\"Potability\")\n",
    "plt.xticks(rotation=0) #rotating x-axis labels e.g., rotation='vertical'\n",
    "plt.ylabel(\"Count\")\n",
    "plt.show()\n",
    "\n",
    "#Numerical Variables \n",
    "df.Solids.describe()\n",
    "print(f\"Skewness: {df['Solids'].skew()}\")\n",
    "print(f\"Kurtisis: {df['Solids'].kurt()}\")\n",
    "\n",
    "#df.hist(column='Solids')\n",
    "df.hist(column='Solids', bins = 30)\n",
    "\n",
    "\n",
    "df.Chloramines.describe()\n",
    "print(f\"Skewness: {df['Chloramines'].skew()}\")\n",
    "print(f\"Kurtisis: {df['Chloramines'].kurt()}\")\n",
    "\n",
    "#df.hist(column='Chloramines')\n",
    "df.hist(column='Chloramines', bins = 30)"
   ]
  },
  {
   "cell_type": "code",
   "execution_count": 3,
   "metadata": {},
   "outputs": [
    {
     "ename": "NameError",
     "evalue": "name 'df' is not defined",
     "output_type": "error",
     "traceback": [
      "\u001b[0;31m---------------------------------------------------------------------------\u001b[0m",
      "\u001b[0;31mNameError\u001b[0m                                 Traceback (most recent call last)",
      "\u001b[0;32m/var/folders/62/zwkvsc2d3tngnd336zgb5n3m0000gn/T/ipykernel_49276/1842119080.py\u001b[0m in \u001b[0;36m<module>\u001b[0;34m\u001b[0m\n\u001b[1;32m      1\u001b[0m \u001b[0;31m# Calculate summary statistics for a column\u001b[0m\u001b[0;34m\u001b[0m\u001b[0;34m\u001b[0m\u001b[0m\n\u001b[0;32m----> 2\u001b[0;31m \u001b[0mcolumn_stats\u001b[0m \u001b[0;34m=\u001b[0m \u001b[0mdf\u001b[0m\u001b[0;34m[\u001b[0m\u001b[0;34m'ph'\u001b[0m\u001b[0;34m]\u001b[0m\u001b[0;34m.\u001b[0m\u001b[0mdescribe\u001b[0m\u001b[0;34m(\u001b[0m\u001b[0;34m)\u001b[0m\u001b[0;34m\u001b[0m\u001b[0;34m\u001b[0m\u001b[0m\n\u001b[0m\u001b[1;32m      3\u001b[0m \u001b[0;34m\u001b[0m\u001b[0m\n\u001b[1;32m      4\u001b[0m \u001b[0;31m# Calculate the interquartile range (IQR)\u001b[0m\u001b[0;34m\u001b[0m\u001b[0;34m\u001b[0m\u001b[0m\n\u001b[1;32m      5\u001b[0m \u001b[0mIQR\u001b[0m \u001b[0;34m=\u001b[0m \u001b[0mcolumn_stats\u001b[0m\u001b[0;34m[\u001b[0m\u001b[0;34m'75%'\u001b[0m\u001b[0;34m]\u001b[0m \u001b[0;34m-\u001b[0m \u001b[0mcolumn_stats\u001b[0m\u001b[0;34m[\u001b[0m\u001b[0;34m'25%'\u001b[0m\u001b[0;34m]\u001b[0m\u001b[0;34m\u001b[0m\u001b[0;34m\u001b[0m\u001b[0m\n",
      "\u001b[0;31mNameError\u001b[0m: name 'df' is not defined"
     ]
    }
   ],
   "source": [
    "\n"
   ]
  }
 ],
 "metadata": {
  "kernelspec": {
   "display_name": "Python 3",
   "language": "python",
   "name": "python3"
  },
  "language_info": {
   "codemirror_mode": {
    "name": "ipython",
    "version": 3
   },
   "file_extension": ".py",
   "mimetype": "text/x-python",
   "name": "python",
   "nbconvert_exporter": "python",
   "pygments_lexer": "ipython3",
   "version": "3.9.13"
  },
  "orig_nbformat": 4,
  "vscode": {
   "interpreter": {
    "hash": "3104ccc1f65eedc9867388e0eb8d0c93911c615e4d9c78feb89b1e2ac7bfaede"
   }
  }
 },
 "nbformat": 4,
 "nbformat_minor": 2
}
