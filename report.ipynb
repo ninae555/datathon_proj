{
 "cells": [
  {
   "attachments": {},
   "cell_type": "markdown",
   "metadata": {},
   "source": [
    "Water Purity Prediction"
   ]
  },
  {
   "cell_type": "code",
   "execution_count": 1,
   "metadata": {},
   "outputs": [],
   "source": [
    "#importing relevant libraries\n",
    "import pandas as pd\n",
    "import numpy as np\n",
    "\n",
    "import matplotlib.pyplot as plt\n",
    "from matplotlib import rcParams\n",
    "\n",
    "import seaborn as sns\n",
    "\n",
    "\n"
   ]
  },
  {
   "cell_type": "markdown",
   "metadata": {},
   "source": []
  },
  {
   "cell_type": "code",
   "execution_count": null,
   "metadata": {},
   "outputs": [],
   "source": [
    "#Importing dataset\n",
    "data = pd.read_csv('water_potability.csv')\n",
    "\n",
    "#Data Dictionary \n",
    "\n",
    "df = pd.DataFrame(data=data.data, columns=data.feature_names)\n",
    "# create a series for the label\n",
    "df[\"target\"] = data.target\n",
    "#produce a summary of the dataset.\n",
    "df.head()\n",
    "df.describe()\n",
    "df.shape\n",
    "df.info()\n"
   ]
  }
 ],
 "metadata": {
  "kernelspec": {
   "display_name": "Python 3",
   "language": "python",
   "name": "python3"
  },
  "language_info": {
   "codemirror_mode": {
    "name": "ipython",
    "version": 3
   },
   "file_extension": ".py",
   "mimetype": "text/x-python",
   "name": "python",
   "nbconvert_exporter": "python",
   "pygments_lexer": "ipython3",
   "version": "3.8.16"
  },
  "orig_nbformat": 4,
  "vscode": {
   "interpreter": {
    "hash": "3104ccc1f65eedc9867388e0eb8d0c93911c615e4d9c78feb89b1e2ac7bfaede"
   }
  }
 },
 "nbformat": 4,
 "nbformat_minor": 2
}
